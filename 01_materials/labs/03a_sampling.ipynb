{
 "cells": [
  {
   "cell_type": "code",
   "execution_count": 1,
   "metadata": {},
   "outputs": [],
   "source": [
    "%load_ext dotenv\n",
    "%dotenv \n",
    "import os\n",
    "import sys\n",
    "sys.path.append(os.getenv('SRC_DIR'))\n",
    "from logger import get_logger\n",
    "_logs = get_logger(__name__)"
   ]
  },
  {
   "cell_type": "code",
   "execution_count": 2,
   "metadata": {},
   "outputs": [
    {
     "name": "stderr",
     "output_type": "stream",
     "text": [
      "c:\\Users\\ShwetankPC\\anaconda3\\envs\\dsi_participant\\lib\\site-packages\\dask\\dataframe\\_pyarrow_compat.py:17: FutureWarning: Minimal version of pyarrow will soon be increased to 14.0.1. You are using 11.0.0. Please consider upgrading.\n",
      "  warnings.warn(\n",
      "C:\\Users\\ShwetankPC\\AppData\\Local\\Temp\\ipykernel_82012\\1500862777.py:1: DeprecationWarning: The current Dask DataFrame implementation is deprecated. \n",
      "In a future release, Dask DataFrame will use new implementation that\n",
      "contains several improvements including a logical query planning.\n",
      "The user-facing DataFrame API will remain unchanged.\n",
      "\n",
      "The new implementation is already available and can be enabled by\n",
      "installing the dask-expr library:\n",
      "\n",
      "    $ pip install dask-expr\n",
      "\n",
      "and turning the query planning option on:\n",
      "\n",
      "    >>> import dask\n",
      "    >>> dask.config.set({'dataframe.query-planning': True})\n",
      "    >>> import dask.dataframe as dd\n",
      "\n",
      "API documentation for the new implementation is available at\n",
      "https://docs.dask.org/en/stable/dask-expr-api.html\n",
      "\n",
      "Any feedback can be reported on the Dask issue tracker\n",
      "https://github.com/dask/dask/issues \n",
      "\n",
      "  import dask.dataframe as dd\n"
     ]
    }
   ],
   "source": [
    "import dask.dataframe as dd\n",
    "import pandas as pd\n",
    "import numpy as np\n",
    "import os\n",
    "from glob import glob"
   ]
  },
  {
   "cell_type": "code",
   "execution_count": 3,
   "metadata": {},
   "outputs": [],
   "source": [
    "ft_dir = os.getenv(\"FEATURES_DATA\")\n",
    "ft_glob = glob(ft_dir+'/*.parquet')\n",
    "df = dd.read_parquet(ft_glob).compute().reset_index()"
   ]
  },
  {
   "cell_type": "markdown",
   "metadata": {},
   "source": [
    "# Sampling in Python"
   ]
  },
  {
   "cell_type": "markdown",
   "metadata": {},
   "source": [
    "+ There are different packages that allow sampling.\n",
    "+ A practical approach is to use pandas/Dask sampling methods."
   ]
  },
  {
   "cell_type": "markdown",
   "metadata": {},
   "source": [
    "## Random Sampling\n",
    "\n",
    "+ Sample n rows from a dataframe with [`df.sample()`](https://pandas.pydata.org/docs/reference/api/pandas.DataFrame.sample.html).\n",
    "\n",
    "```\n",
    "DataFrame.sample(\n",
    "    n=None, frac=None, replace=False, weights=None, \n",
    "    random_state=None, axis=None, ignore_index=False\n",
    "    )\n",
    "```"
   ]
  },
  {
   "cell_type": "code",
   "execution_count": 5,
   "metadata": {},
   "outputs": [
    {
     "data": {
      "text/html": [
       "<div>\n",
       "<style scoped>\n",
       "    .dataframe tbody tr th:only-of-type {\n",
       "        vertical-align: middle;\n",
       "    }\n",
       "\n",
       "    .dataframe tbody tr th {\n",
       "        vertical-align: top;\n",
       "    }\n",
       "\n",
       "    .dataframe thead th {\n",
       "        text-align: right;\n",
       "    }\n",
       "</style>\n",
       "<table border=\"1\" class=\"dataframe\">\n",
       "  <thead>\n",
       "    <tr style=\"text-align: right;\">\n",
       "      <th></th>\n",
       "      <th>ticker</th>\n",
       "      <th>Date</th>\n",
       "      <th>Open</th>\n",
       "      <th>High</th>\n",
       "      <th>Low</th>\n",
       "      <th>Close</th>\n",
       "      <th>Adj Close</th>\n",
       "      <th>Volume</th>\n",
       "      <th>sector</th>\n",
       "      <th>subsector</th>\n",
       "      <th>year</th>\n",
       "      <th>Close_lag_1</th>\n",
       "      <th>returns</th>\n",
       "      <th>positive_return</th>\n",
       "      <th>target</th>\n",
       "    </tr>\n",
       "  </thead>\n",
       "  <tbody>\n",
       "    <tr>\n",
       "      <th>2582048</th>\n",
       "      <td>LMT</td>\n",
       "      <td>2011-07-27</td>\n",
       "      <td>80.279999</td>\n",
       "      <td>80.580002</td>\n",
       "      <td>77.220001</td>\n",
       "      <td>77.459999</td>\n",
       "      <td>51.891655</td>\n",
       "      <td>2930800</td>\n",
       "      <td>Industrials</td>\n",
       "      <td>Aerospace &amp; Defense</td>\n",
       "      <td>2011</td>\n",
       "      <td>80.820000</td>\n",
       "      <td>-0.041574</td>\n",
       "      <td>0</td>\n",
       "      <td>0.0</td>\n",
       "    </tr>\n",
       "    <tr>\n",
       "      <th>683348</th>\n",
       "      <td>INCY</td>\n",
       "      <td>2012-06-05</td>\n",
       "      <td>20.780001</td>\n",
       "      <td>22.139999</td>\n",
       "      <td>20.680000</td>\n",
       "      <td>21.740000</td>\n",
       "      <td>21.740000</td>\n",
       "      <td>1615600</td>\n",
       "      <td>Health Care</td>\n",
       "      <td>Biotechnology</td>\n",
       "      <td>2012</td>\n",
       "      <td>20.830000</td>\n",
       "      <td>0.043687</td>\n",
       "      <td>1</td>\n",
       "      <td>1.0</td>\n",
       "    </tr>\n",
       "    <tr>\n",
       "      <th>1648115</th>\n",
       "      <td>DAY</td>\n",
       "      <td>2020-01-17</td>\n",
       "      <td>73.300003</td>\n",
       "      <td>73.500000</td>\n",
       "      <td>72.190002</td>\n",
       "      <td>72.730003</td>\n",
       "      <td>72.730003</td>\n",
       "      <td>698700</td>\n",
       "      <td>Industrials</td>\n",
       "      <td>Human Resource &amp; Employment Services</td>\n",
       "      <td>2020</td>\n",
       "      <td>72.820000</td>\n",
       "      <td>-0.001236</td>\n",
       "      <td>0</td>\n",
       "      <td>0.0</td>\n",
       "    </tr>\n",
       "    <tr>\n",
       "      <th>2099523</th>\n",
       "      <td>MGM</td>\n",
       "      <td>2004-09-22</td>\n",
       "      <td>23.834999</td>\n",
       "      <td>23.834999</td>\n",
       "      <td>23.500000</td>\n",
       "      <td>23.520000</td>\n",
       "      <td>22.214888</td>\n",
       "      <td>1056600</td>\n",
       "      <td>Consumer Discretionary</td>\n",
       "      <td>Casinos &amp; Gaming</td>\n",
       "      <td>2004</td>\n",
       "      <td>23.834999</td>\n",
       "      <td>-0.013216</td>\n",
       "      <td>0</td>\n",
       "      <td>1.0</td>\n",
       "    </tr>\n",
       "    <tr>\n",
       "      <th>2494669</th>\n",
       "      <td>PARA</td>\n",
       "      <td>2014-03-04</td>\n",
       "      <td>66.910004</td>\n",
       "      <td>67.620003</td>\n",
       "      <td>66.910004</td>\n",
       "      <td>67.419998</td>\n",
       "      <td>55.016552</td>\n",
       "      <td>6201700</td>\n",
       "      <td>Communication Services</td>\n",
       "      <td>Movies &amp; Entertainment</td>\n",
       "      <td>2014</td>\n",
       "      <td>65.949997</td>\n",
       "      <td>0.022290</td>\n",
       "      <td>1</td>\n",
       "      <td>0.0</td>\n",
       "    </tr>\n",
       "  </tbody>\n",
       "</table>\n",
       "</div>"
      ],
      "text/plain": [
       "        ticker       Date       Open       High        Low      Close  \\\n",
       "2582048    LMT 2011-07-27  80.279999  80.580002  77.220001  77.459999   \n",
       "683348    INCY 2012-06-05  20.780001  22.139999  20.680000  21.740000   \n",
       "1648115    DAY 2020-01-17  73.300003  73.500000  72.190002  72.730003   \n",
       "2099523    MGM 2004-09-22  23.834999  23.834999  23.500000  23.520000   \n",
       "2494669   PARA 2014-03-04  66.910004  67.620003  66.910004  67.419998   \n",
       "\n",
       "         Adj Close   Volume                  sector  \\\n",
       "2582048  51.891655  2930800             Industrials   \n",
       "683348   21.740000  1615600             Health Care   \n",
       "1648115  72.730003   698700             Industrials   \n",
       "2099523  22.214888  1056600  Consumer Discretionary   \n",
       "2494669  55.016552  6201700  Communication Services   \n",
       "\n",
       "                                    subsector  year  Close_lag_1   returns  \\\n",
       "2582048                   Aerospace & Defense  2011    80.820000 -0.041574   \n",
       "683348                          Biotechnology  2012    20.830000  0.043687   \n",
       "1648115  Human Resource & Employment Services  2020    72.820000 -0.001236   \n",
       "2099523                      Casinos & Gaming  2004    23.834999 -0.013216   \n",
       "2494669                Movies & Entertainment  2014    65.949997  0.022290   \n",
       "\n",
       "         positive_return  target  \n",
       "2582048                0     0.0  \n",
       "683348                 1     1.0  \n",
       "1648115                0     0.0  \n",
       "2099523                0     1.0  \n",
       "2494669                1     0.0  "
      ]
     },
     "execution_count": 5,
     "metadata": {},
     "output_type": "execute_result"
    }
   ],
   "source": [
    "df.sample(n = 5)"
   ]
  },
  {
   "cell_type": "code",
   "execution_count": 6,
   "metadata": {},
   "outputs": [
    {
     "data": {
      "text/plain": [
       "['OXY', 'TXN', 'PCG', 'CBRE', 'ROK', 'AMT', 'D', 'YUM', 'PWR']"
      ]
     },
     "execution_count": 6,
     "metadata": {},
     "output_type": "execute_result"
    }
   ],
   "source": [
    "# select_tickers = df['ticker'].unique().tolist()[0:9]\n",
    "select_tickers = ['OXY', 'TXN', 'PCG', 'CBRE', 'ROK', 'AMT', 'D', 'YUM', 'PWR']\n",
    "select_tickers"
   ]
  },
  {
   "cell_type": "code",
   "execution_count": 7,
   "metadata": {},
   "outputs": [
    {
     "data": {
      "text/plain": [
       "((5440, 15), (54398, 15))"
      ]
     },
     "execution_count": 7,
     "metadata": {},
     "output_type": "execute_result"
    }
   ],
   "source": [
    "idx = df['ticker'].isin(select_tickers)\n",
    "small_df = df[idx]\n",
    "simple_sample_dt = small_df.sample(frac = 0.1)\n",
    "simple_sample_dt.shape, small_df.shape"
   ]
  },
  {
   "cell_type": "markdown",
   "metadata": {},
   "source": [
    "Look at the distribution of tickers."
   ]
  },
  {
   "cell_type": "code",
   "execution_count": 9,
   "metadata": {},
   "outputs": [
    {
     "data": {
      "text/plain": [
       "<Axes: xlabel='ticker'>"
      ]
     },
     "execution_count": 9,
     "metadata": {},
     "output_type": "execute_result"
    },
    {
     "data": {
      "image/png": "[encoded data removed]",
      "text/plain": [
       "<Figure size 640x480 with 1 Axes>"
      ]
     },
     "metadata": {},
     "output_type": "display_data"
    }
   ],
   "source": [
    "small_df['ticker'].value_counts().plot(kind='bar')"
   ]
  },
  {
   "cell_type": "code",
   "execution_count": 10,
   "metadata": {},
   "outputs": [
    {
     "data": {
      "text/plain": [
       "<Axes: xlabel='ticker'>"
      ]
     },
     "execution_count": 10,
     "metadata": {},
     "output_type": "execute_result"
    },
    {
     "data": {
      "image/png": "[encoded data removed]",
      "text/plain": [
       "<Figure size 640x480 with 1 Axes>"
      ]
     },
     "metadata": {},
     "output_type": "display_data"
    }
   ],
   "source": [
    "simple_sample_dt['ticker'].value_counts().plot(kind='bar')"
   ]
  },
  {
   "cell_type": "markdown",
   "metadata": {},
   "source": [
    "## Stratified Sampling\n",
    "\n",
    "+ Use `groupby()` and `.sample()` for stratified sampling."
   ]
  },
  {
   "cell_type": "code",
   "execution_count": 11,
   "metadata": {},
   "outputs": [
    {
     "data": {
      "text/plain": [
       "<Axes: xlabel='ticker'>"
      ]
     },
     "execution_count": 11,
     "metadata": {},
     "output_type": "execute_result"
    },
    {
     "data": {
      "image/png": "[encoded data removed]",
      "text/plain": [
       "<Figure size 640x480 with 1 Axes>"
      ]
     },
     "metadata": {},
     "output_type": "display_data"
    }
   ],
   "source": [
    "strat_sample_dt = small_df.groupby(['ticker']).sample(frac = 0.1)\n",
    "strat_sample_dt['ticker'].value_counts().plot(kind='bar')"
   ]
  },
  {
   "cell_type": "markdown",
   "metadata": {},
   "source": [
    "# Sampling in Dask\n",
    "\n",
    "+ Stratified sampling in `dask` can be achieved with `groupby().apply()` and a lambda function."
   ]
  },
  {
   "cell_type": "code",
   "execution_count": null,
   "metadata": {},
   "outputs": [],
   "source": [
    "dd_dt = dd.read_parquet(ft_glob)\n",
    "strat_sample_dd_dt = (dd_dt\n",
    "                      .groupby('ticker', group_keys=False)\n",
    "                      .apply(lambda x: x.sample(frac = 0.1))\n",
    "                      .compute()\n",
    "                      .reset_index())\n",
    "strat_sample_dd_dt[strat_sample_dd_dt['ticker'].isin(select_tickers)]['ticker'].value_counts().plot(kind='bar')"
   ]
  }
 ],
 "metadata": {
  "kernelspec": {
   "display_name": "env",
   "language": "python",
   "name": "python3"
  },
  "language_info": {
   "codemirror_mode": {
    "name": "ipython",
    "version": 3
   },
   "file_extension": ".py",
   "mimetype": "text/x-python",
   "name": "python",
   "nbconvert_exporter": "python",
   "pygments_lexer": "ipython3",
   "version": "3.9.15"
  }
 },
 "nbformat": 4,
 "nbformat_minor": 2
}
